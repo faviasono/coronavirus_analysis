{
 "cells": [
  {
   "cell_type": "code",
   "execution_count": 2,
   "metadata": {},
   "outputs": [],
   "source": [
    "import numpy as np\n",
    "import pandas as pd\n",
    "import matplotlib.pyplot as plt\n",
    "import time\n",
    "import datetime\n",
    "import seaborn as sns"
   ]
  },
  {
   "cell_type": "code",
   "execution_count": 3,
   "metadata": {},
   "outputs": [
    {
     "ename": "FileNotFoundError",
     "evalue": "[Errno 2] File b'full_data.csv' does not exist: b'full_data.csv'",
     "output_type": "error",
     "traceback": [
      "\u001b[0;31m---------------------------------------------------------------------------\u001b[0m",
      "\u001b[0;31mFileNotFoundError\u001b[0m                         Traceback (most recent call last)",
      "\u001b[0;32m<ipython-input-3-368fa5b5fc66>\u001b[0m in \u001b[0;36m<module>\u001b[0;34m\u001b[0m\n\u001b[0;32m----> 1\u001b[0;31m \u001b[0mfull_data\u001b[0m \u001b[0;34m=\u001b[0m \u001b[0mpd\u001b[0m\u001b[0;34m.\u001b[0m\u001b[0mread_csv\u001b[0m\u001b[0;34m(\u001b[0m\u001b[0;34m'full_data.csv'\u001b[0m\u001b[0;34m)\u001b[0m\u001b[0;34m\u001b[0m\u001b[0;34m\u001b[0m\u001b[0m\n\u001b[0m\u001b[1;32m      2\u001b[0m \u001b[0mfull_data\u001b[0m\u001b[0;34m.\u001b[0m\u001b[0mdate\u001b[0m \u001b[0;34m=\u001b[0m \u001b[0mpd\u001b[0m\u001b[0;34m.\u001b[0m\u001b[0mto_datetime\u001b[0m\u001b[0;34m(\u001b[0m\u001b[0mfull_data\u001b[0m\u001b[0;34m.\u001b[0m\u001b[0mdate\u001b[0m\u001b[0;34m)\u001b[0m\u001b[0;34m\u001b[0m\u001b[0;34m\u001b[0m\u001b[0m\n\u001b[1;32m      3\u001b[0m \u001b[0mcols\u001b[0m \u001b[0;34m=\u001b[0m \u001b[0;34m[\u001b[0m\u001b[0;34m'new_cases'\u001b[0m\u001b[0;34m,\u001b[0m \u001b[0;34m'new_deaths'\u001b[0m\u001b[0;34m,\u001b[0m \u001b[0;34m'total_cases'\u001b[0m\u001b[0;34m,\u001b[0m \u001b[0;34m'total_deaths'\u001b[0m\u001b[0;34m]\u001b[0m\u001b[0;34m\u001b[0m\u001b[0;34m\u001b[0m\u001b[0m\n\u001b[1;32m      4\u001b[0m \u001b[0mfull_data\u001b[0m\u001b[0;34m[\u001b[0m\u001b[0mcols\u001b[0m\u001b[0;34m]\u001b[0m \u001b[0;34m=\u001b[0m \u001b[0mfull_data\u001b[0m\u001b[0;34m[\u001b[0m\u001b[0mcols\u001b[0m\u001b[0;34m]\u001b[0m\u001b[0;34m.\u001b[0m\u001b[0mapply\u001b[0m\u001b[0;34m(\u001b[0m\u001b[0mpd\u001b[0m\u001b[0;34m.\u001b[0m\u001b[0mto_numeric\u001b[0m\u001b[0;34m)\u001b[0m\u001b[0;34m\u001b[0m\u001b[0;34m\u001b[0m\u001b[0m\n",
      "\u001b[0;32m/opt/anaconda3/lib/python3.7/site-packages/pandas/io/parsers.py\u001b[0m in \u001b[0;36mparser_f\u001b[0;34m(filepath_or_buffer, sep, delimiter, header, names, index_col, usecols, squeeze, prefix, mangle_dupe_cols, dtype, engine, converters, true_values, false_values, skipinitialspace, skiprows, skipfooter, nrows, na_values, keep_default_na, na_filter, verbose, skip_blank_lines, parse_dates, infer_datetime_format, keep_date_col, date_parser, dayfirst, cache_dates, iterator, chunksize, compression, thousands, decimal, lineterminator, quotechar, quoting, doublequote, escapechar, comment, encoding, dialect, error_bad_lines, warn_bad_lines, delim_whitespace, low_memory, memory_map, float_precision)\u001b[0m\n\u001b[1;32m    683\u001b[0m         )\n\u001b[1;32m    684\u001b[0m \u001b[0;34m\u001b[0m\u001b[0m\n\u001b[0;32m--> 685\u001b[0;31m         \u001b[0;32mreturn\u001b[0m \u001b[0m_read\u001b[0m\u001b[0;34m(\u001b[0m\u001b[0mfilepath_or_buffer\u001b[0m\u001b[0;34m,\u001b[0m \u001b[0mkwds\u001b[0m\u001b[0;34m)\u001b[0m\u001b[0;34m\u001b[0m\u001b[0;34m\u001b[0m\u001b[0m\n\u001b[0m\u001b[1;32m    686\u001b[0m \u001b[0;34m\u001b[0m\u001b[0m\n\u001b[1;32m    687\u001b[0m     \u001b[0mparser_f\u001b[0m\u001b[0;34m.\u001b[0m\u001b[0m__name__\u001b[0m \u001b[0;34m=\u001b[0m \u001b[0mname\u001b[0m\u001b[0;34m\u001b[0m\u001b[0;34m\u001b[0m\u001b[0m\n",
      "\u001b[0;32m/opt/anaconda3/lib/python3.7/site-packages/pandas/io/parsers.py\u001b[0m in \u001b[0;36m_read\u001b[0;34m(filepath_or_buffer, kwds)\u001b[0m\n\u001b[1;32m    455\u001b[0m \u001b[0;34m\u001b[0m\u001b[0m\n\u001b[1;32m    456\u001b[0m     \u001b[0;31m# Create the parser.\u001b[0m\u001b[0;34m\u001b[0m\u001b[0;34m\u001b[0m\u001b[0;34m\u001b[0m\u001b[0m\n\u001b[0;32m--> 457\u001b[0;31m     \u001b[0mparser\u001b[0m \u001b[0;34m=\u001b[0m \u001b[0mTextFileReader\u001b[0m\u001b[0;34m(\u001b[0m\u001b[0mfp_or_buf\u001b[0m\u001b[0;34m,\u001b[0m \u001b[0;34m**\u001b[0m\u001b[0mkwds\u001b[0m\u001b[0;34m)\u001b[0m\u001b[0;34m\u001b[0m\u001b[0;34m\u001b[0m\u001b[0m\n\u001b[0m\u001b[1;32m    458\u001b[0m \u001b[0;34m\u001b[0m\u001b[0m\n\u001b[1;32m    459\u001b[0m     \u001b[0;32mif\u001b[0m \u001b[0mchunksize\u001b[0m \u001b[0;32mor\u001b[0m \u001b[0miterator\u001b[0m\u001b[0;34m:\u001b[0m\u001b[0;34m\u001b[0m\u001b[0;34m\u001b[0m\u001b[0m\n",
      "\u001b[0;32m/opt/anaconda3/lib/python3.7/site-packages/pandas/io/parsers.py\u001b[0m in \u001b[0;36m__init__\u001b[0;34m(self, f, engine, **kwds)\u001b[0m\n\u001b[1;32m    893\u001b[0m             \u001b[0mself\u001b[0m\u001b[0;34m.\u001b[0m\u001b[0moptions\u001b[0m\u001b[0;34m[\u001b[0m\u001b[0;34m\"has_index_names\"\u001b[0m\u001b[0;34m]\u001b[0m \u001b[0;34m=\u001b[0m \u001b[0mkwds\u001b[0m\u001b[0;34m[\u001b[0m\u001b[0;34m\"has_index_names\"\u001b[0m\u001b[0;34m]\u001b[0m\u001b[0;34m\u001b[0m\u001b[0;34m\u001b[0m\u001b[0m\n\u001b[1;32m    894\u001b[0m \u001b[0;34m\u001b[0m\u001b[0m\n\u001b[0;32m--> 895\u001b[0;31m         \u001b[0mself\u001b[0m\u001b[0;34m.\u001b[0m\u001b[0m_make_engine\u001b[0m\u001b[0;34m(\u001b[0m\u001b[0mself\u001b[0m\u001b[0;34m.\u001b[0m\u001b[0mengine\u001b[0m\u001b[0;34m)\u001b[0m\u001b[0;34m\u001b[0m\u001b[0;34m\u001b[0m\u001b[0m\n\u001b[0m\u001b[1;32m    896\u001b[0m \u001b[0;34m\u001b[0m\u001b[0m\n\u001b[1;32m    897\u001b[0m     \u001b[0;32mdef\u001b[0m \u001b[0mclose\u001b[0m\u001b[0;34m(\u001b[0m\u001b[0mself\u001b[0m\u001b[0;34m)\u001b[0m\u001b[0;34m:\u001b[0m\u001b[0;34m\u001b[0m\u001b[0;34m\u001b[0m\u001b[0m\n",
      "\u001b[0;32m/opt/anaconda3/lib/python3.7/site-packages/pandas/io/parsers.py\u001b[0m in \u001b[0;36m_make_engine\u001b[0;34m(self, engine)\u001b[0m\n\u001b[1;32m   1133\u001b[0m     \u001b[0;32mdef\u001b[0m \u001b[0m_make_engine\u001b[0m\u001b[0;34m(\u001b[0m\u001b[0mself\u001b[0m\u001b[0;34m,\u001b[0m \u001b[0mengine\u001b[0m\u001b[0;34m=\u001b[0m\u001b[0;34m\"c\"\u001b[0m\u001b[0;34m)\u001b[0m\u001b[0;34m:\u001b[0m\u001b[0;34m\u001b[0m\u001b[0;34m\u001b[0m\u001b[0m\n\u001b[1;32m   1134\u001b[0m         \u001b[0;32mif\u001b[0m \u001b[0mengine\u001b[0m \u001b[0;34m==\u001b[0m \u001b[0;34m\"c\"\u001b[0m\u001b[0;34m:\u001b[0m\u001b[0;34m\u001b[0m\u001b[0;34m\u001b[0m\u001b[0m\n\u001b[0;32m-> 1135\u001b[0;31m             \u001b[0mself\u001b[0m\u001b[0;34m.\u001b[0m\u001b[0m_engine\u001b[0m \u001b[0;34m=\u001b[0m \u001b[0mCParserWrapper\u001b[0m\u001b[0;34m(\u001b[0m\u001b[0mself\u001b[0m\u001b[0;34m.\u001b[0m\u001b[0mf\u001b[0m\u001b[0;34m,\u001b[0m \u001b[0;34m**\u001b[0m\u001b[0mself\u001b[0m\u001b[0;34m.\u001b[0m\u001b[0moptions\u001b[0m\u001b[0;34m)\u001b[0m\u001b[0;34m\u001b[0m\u001b[0;34m\u001b[0m\u001b[0m\n\u001b[0m\u001b[1;32m   1136\u001b[0m         \u001b[0;32melse\u001b[0m\u001b[0;34m:\u001b[0m\u001b[0;34m\u001b[0m\u001b[0;34m\u001b[0m\u001b[0m\n\u001b[1;32m   1137\u001b[0m             \u001b[0;32mif\u001b[0m \u001b[0mengine\u001b[0m \u001b[0;34m==\u001b[0m \u001b[0;34m\"python\"\u001b[0m\u001b[0;34m:\u001b[0m\u001b[0;34m\u001b[0m\u001b[0;34m\u001b[0m\u001b[0m\n",
      "\u001b[0;32m/opt/anaconda3/lib/python3.7/site-packages/pandas/io/parsers.py\u001b[0m in \u001b[0;36m__init__\u001b[0;34m(self, src, **kwds)\u001b[0m\n\u001b[1;32m   1915\u001b[0m         \u001b[0mkwds\u001b[0m\u001b[0;34m[\u001b[0m\u001b[0;34m\"usecols\"\u001b[0m\u001b[0;34m]\u001b[0m \u001b[0;34m=\u001b[0m \u001b[0mself\u001b[0m\u001b[0;34m.\u001b[0m\u001b[0musecols\u001b[0m\u001b[0;34m\u001b[0m\u001b[0;34m\u001b[0m\u001b[0m\n\u001b[1;32m   1916\u001b[0m \u001b[0;34m\u001b[0m\u001b[0m\n\u001b[0;32m-> 1917\u001b[0;31m         \u001b[0mself\u001b[0m\u001b[0;34m.\u001b[0m\u001b[0m_reader\u001b[0m \u001b[0;34m=\u001b[0m \u001b[0mparsers\u001b[0m\u001b[0;34m.\u001b[0m\u001b[0mTextReader\u001b[0m\u001b[0;34m(\u001b[0m\u001b[0msrc\u001b[0m\u001b[0;34m,\u001b[0m \u001b[0;34m**\u001b[0m\u001b[0mkwds\u001b[0m\u001b[0;34m)\u001b[0m\u001b[0;34m\u001b[0m\u001b[0;34m\u001b[0m\u001b[0m\n\u001b[0m\u001b[1;32m   1918\u001b[0m         \u001b[0mself\u001b[0m\u001b[0;34m.\u001b[0m\u001b[0munnamed_cols\u001b[0m \u001b[0;34m=\u001b[0m \u001b[0mself\u001b[0m\u001b[0;34m.\u001b[0m\u001b[0m_reader\u001b[0m\u001b[0;34m.\u001b[0m\u001b[0munnamed_cols\u001b[0m\u001b[0;34m\u001b[0m\u001b[0;34m\u001b[0m\u001b[0m\n\u001b[1;32m   1919\u001b[0m \u001b[0;34m\u001b[0m\u001b[0m\n",
      "\u001b[0;32mpandas/_libs/parsers.pyx\u001b[0m in \u001b[0;36mpandas._libs.parsers.TextReader.__cinit__\u001b[0;34m()\u001b[0m\n",
      "\u001b[0;32mpandas/_libs/parsers.pyx\u001b[0m in \u001b[0;36mpandas._libs.parsers.TextReader._setup_parser_source\u001b[0;34m()\u001b[0m\n",
      "\u001b[0;31mFileNotFoundError\u001b[0m: [Errno 2] File b'full_data.csv' does not exist: b'full_data.csv'"
     ]
    }
   ],
   "source": [
    "full_data = pd.read_csv('full_data.csv')\n",
    "full_data.date = pd.to_datetime(full_data.date)\n",
    "cols = ['new_cases', 'new_deaths', 'total_cases', 'total_deaths']\n",
    "full_data[cols] = full_data[cols].apply(pd.to_numeric)"
   ]
  },
  {
   "cell_type": "code",
   "execution_count": null,
   "metadata": {},
   "outputs": [],
   "source": [
    "nl_data = full_data[full_data.location=='Netherlands']\n",
    "it_data = full_data[full_data.location=='Italy']\n",
    "#up to date\n",
    "nl_data.head(100)"
   ]
  },
  {
   "cell_type": "markdown",
   "metadata": {},
   "source": [
    "## Compare The Netherlands Vs Italy"
   ]
  },
  {
   "cell_type": "code",
   "execution_count": null,
   "metadata": {},
   "outputs": [],
   "source": [
    "start_italy = it_data[it_data.new_cases!=0].date.iloc[0]\n",
    "start_nl = nl_data[nl_data.new_cases!=0].date.iloc[0]\n",
    "\n",
    "today = datetime.datetime.today()\n",
    "range_dates_it = pd.date_range(start_italy,today).to_pydatetime().tolist()\n",
    "range_dates_nl = pd.date_range(start_nl,today).to_pydatetime().tolist()\n",
    "#it's possible to do the same for other countries"
   ]
  },
  {
   "cell_type": "code",
   "execution_count": null,
   "metadata": {},
   "outputs": [],
   "source": [
    "fig = plt.figure(figsize=(15,4))\n",
    "plt.plot(range_dates_it[1:], it_data.loc[it_data.date.isin(range_dates_it)].total_cases,lw=2,label='Italy')\n",
    "plt.plot(range_dates_nl[1:], nl_data.loc[nl_data.date.isin(range_dates_nl)].total_cases,lw=2,label='The Netherlands')\n",
    "plt.title('Total cases in two different countries')\n",
    "plt.legend()\n",
    "plt.show()"
   ]
  },
  {
   "cell_type": "markdown",
   "metadata": {},
   "source": [
    "### Compute growth for death and total cases\n",
    "##### Are the measures against coronavirus effective ?"
   ]
  },
  {
   "cell_type": "code",
   "execution_count": null,
   "metadata": {},
   "outputs": [],
   "source": [
    "def perc_growth(sequence):\n",
    "    return [round(100 * (b - a) / a,2) if a !=0 and b!=0 else 0 for a, b in zip(sequence[:], sequence[1:])]"
   ]
  },
  {
   "cell_type": "code",
   "execution_count": null,
   "metadata": {},
   "outputs": [],
   "source": [
    "it_perc_growth = it_data[it_data.total_cases!=0][cols].apply(perc_growth)\n",
    "nl_perc_growth = nl_data[nl_data.total_cases!=0][cols].apply(perc_growth)\n",
    "\n",
    "fig,(ax1,ax2) = plt.subplots(nrows=1,ncols=2,figsize=(30,14))\n",
    "fig.suptitle('Percentual Growth Italy vs Netherlands')\n",
    "\n",
    "ax1.plot(range_dates_it[2:],it_perc_growth.total_cases,label='total cases');\n",
    "ax1.plot(range_dates_it[2:],it_perc_growth.total_deaths,label='total deaths');\n",
    "ax1.legend()\n",
    "ax1.set(title='Italy',xlabel='date',ylabel='percentual growth %');\n",
    "\n",
    "\n",
    "ax2.plot(range_dates_nl[2:],nl_perc_growth.total_cases,label='total cases');\n",
    "ax2.plot(range_dates_nl[2:],nl_perc_growth.total_deaths,label='total deaths');\n",
    "ax2.legend()\n",
    "ax2.set(title='The Netherlands',xlabel='date',ylabel='percentual growth %');\n",
    "\n",
    "#TODO: add notation on the government decision "
   ]
  },
  {
   "cell_type": "markdown",
   "metadata": {},
   "source": [
    "### Italian Region\n"
   ]
  },
  {
   "cell_type": "code",
   "execution_count": null,
   "metadata": {},
   "outputs": [],
   "source": [
    "import os\n",
    "os.getcwd()"
   ]
  },
  {
   "cell_type": "code",
   "execution_count": null,
   "metadata": {},
   "outputs": [],
   "source": [
    "italy_regions = pd.read_csv('dpc-covid19-ita-regioni.csv')\n",
    "italy_regions.tail(10)\n",
    "df = italy_regions.dropna().sort_values(by=['denominazione_regione', 'data'])\n",
    "df_lastday = df[df.data == df.data.max()]\n",
    "\n",
    "df.head(5)"
   ]
  },
  {
   "cell_type": "code",
   "execution_count": null,
   "metadata": {},
   "outputs": [],
   "source": [
    "tested = sns.barplot(data=df_lastday.sort_values(by='tamponi')[::-1],y='denominazione_regione',x='tamponi',color='darkblue',);\n",
    "tested.set_title('Number of tested people for region')\n",
    "tested.set_xlabel('Tests ( swabs )')\n",
    "tested.set_ylabel('Region')\n",
    "plt.show()"
   ]
  },
  {
   "cell_type": "markdown",
   "metadata": {},
   "source": [
    "Number of ppl in Intensive-Cure units"
   ]
  },
  {
   "cell_type": "code",
   "execution_count": null,
   "metadata": {},
   "outputs": [],
   "source": [
    "tested = sns.barplot(data=df_lastday.sort_values(by='terapia_intensiva')[::-1],y='denominazione_regione',x='terapia_intensiva',color='darkblue',);\n",
    "tested.set_title('People in intensive-cure units per region')\n",
    "tested.set_xlabel('number people')\n",
    "tested.set_ylabel('Region')"
   ]
  },
  {
   "cell_type": "code",
   "execution_count": null,
   "metadata": {},
   "outputs": [],
   "source": [
    "ax = df_lastday.sort_values(by='ricoverati_con_sintomi')[::-1][['denominazione_regione','ricoverati_con_sintomi','terapia_intensiva']].plot.bar(\n",
    "    stacked=True,\n",
    "    x='denominazione_regione',\n",
    "    rot=15,\n",
    "    figsize=(20,10))\n",
    "\n",
    "ax.set(title='Total people hospitalized in Italy per region',xlabel='Region',ylabel='Number of people hospitalized',)\n",
    "ax.legend(['Hospitalized with symptoms','Intensive-cure '])\n",
    "plt.show()"
   ]
  },
  {
   "cell_type": "code",
   "execution_count": null,
   "metadata": {
    "scrolled": true
   },
   "outputs": [],
   "source": [
    "tested = sns.barplot(data=df_lastday.sort_values(by='ricoverati_con_sintomi')[::-1],y='denominazione_regione',x='ricoverati_con_sintomi',color='darkblue',);\n",
    "tested.set_title('People Hospitalized')\n",
    "tested.set_xlabel('number people')\n",
    "tested.set_ylabel('Region')"
   ]
  },
  {
   "cell_type": "code",
   "execution_count": null,
   "metadata": {},
   "outputs": [],
   "source": [
    "tested = sns.barplot(data=df_lastday.sort_values(by='deceduti')[::-1],y='denominazione_regione',x='deceduti',color='darkblue',);\n",
    "tested.set_title('Deaths per region')\n",
    "tested.set_xlabel('number people')\n",
    "tested.set_ylabel('Region')"
   ]
  },
  {
   "cell_type": "code",
   "execution_count": null,
   "metadata": {},
   "outputs": [],
   "source": [
    "#You can change the region\n",
    "region_name = 'Lombardia'\n",
    "region = df[df.denominazione_regione ==region_name]\n",
    "\n",
    "fig = plt.figure(figsize=(10,10))\n",
    "\n",
    "ax = sns.lineplot(x='data',y='totale_casi',data=region,label='total positive cases',lw=2)#\n",
    "ax = sns.lineplot(x='data',y='tamponi',data=region,label='tested',lw=2)\n",
    "ax.set_title('{} : number of people tested / positive to covid'.format(region_name))\n",
    "ax.set_xticks(region.data.to_list()[::4])\n",
    "ax.set_xlabel('Date')\n",
    "ax.set_ylabel('Number of people')\n",
    "\n",
    "#what's the percentage of ppl resulted positive with the test ? \n",
    "tot_tests = region[region.data == region.data.max()].tamponi.iloc[0]\n",
    "tot_covid = region[region.data == region.data.max()].totale_casi.iloc[0]\n",
    "#fig.text(0.9, 0.86,'Last day % of people positive after the test: {} %'.format(round(tot_covid/tot_tests*100)), fontsize=9,horizontalalignment='right',verticalalignment='top',)\n",
    "\n",
    "\n",
    "#annotate on government policies\n",
    "x_line_annotation = dt.datetime(2020,3,11)\n",
    "ax.axvline(x=x_line_annotation, linestyle='dashed', alpha=0.3)\n",
    "ax.text(x=x_line_annotation,y = tot_tests-10,s=' Initial Lockdown')\n",
    "\n",
    "x_line_annotation = dt.datetime(2020,3,13)\n",
    "ax.axvline(x=x_line_annotation, linestyle='dashed', alpha=0.3)\n",
    "ax.text(x=x_line_annotation,y = tot_tests-0.1*tot_tests,s=' Only few activities open')\n",
    "\n",
    "\n",
    "x_line_annotation = dt.datetime(2020,3,21)\n",
    "ax.axvline(x=x_line_annotation, linestyle='dashed', alpha=0.3)\n",
    "ax.text(x=dt.datetime(2020,3,14),y = 1000,s=' Last guidelines - total lockdown')\n",
    "\n",
    "\n",
    "plt.show()"
   ]
  },
  {
   "cell_type": "markdown",
   "metadata": {},
   "source": [
    "### Italy: tests vs covid-19"
   ]
  },
  {
   "cell_type": "code",
   "execution_count": null,
   "metadata": {},
   "outputs": [],
   "source": [
    "italy_tot = df.groupby(by='data').agg('sum').reset_index()\n",
    "\n",
    "fig = plt.figure(figsize=(10,10))\n",
    "\n",
    "ax = sns.lineplot(x='data',y='totale_casi',data=italy_tot,label='total positive cases',lw=2)#\n",
    "ax = sns.lineplot(x='data',y='tamponi',data=italy_tot,label='tested',lw=2)\n",
    "ax.set_title('ITALY : number of people tested / positive to covid'.format(region_name))\n",
    "ax.set_xticks(italy_tot.data.to_list()[::4])\n",
    "ax.set_xlabel('Date')\n",
    "ax.set_ylabel('Number of people')\n",
    "\n",
    "#what's the percentage of ppl resulted positive with the test ? \n",
    "tot_tests = italy_tot[italy_tot.data == italy_tot.data.max()].tamponi.iloc[0]\n",
    "tot_covid = italy_tot[italy_tot.data == italy_tot.data.max()].totale_casi.iloc[0]\n",
    "#fig.text(0.9, 0.86,'Last day % of people positive after the test: {} %'.format(round(tot_covid/tot_tests*100)), fontsize=9,horizontalalignment='right',verticalalignment='top',)\n",
    "\n",
    "\n",
    "#annotate on government policies\n",
    "x_line_annotation = dt.datetime(2020,3,11)\n",
    "ax.axvline(x=x_line_annotation, linestyle='dashed', alpha=0.3)\n",
    "ax.text(x=x_line_annotation,y = tot_tests-10,s=' Initial Lockdown')\n",
    "\n",
    "x_line_annotation = dt.datetime(2020,3,13)\n",
    "ax.axvline(x=x_line_annotation, linestyle='dashed', alpha=0.3)\n",
    "ax.text(x=x_line_annotation,y = tot_tests-0.1*tot_tests,s=' Only few activities open')\n",
    "\n",
    "\n",
    "x_line_annotation = dt.datetime(2020,3,21)\n",
    "ax.axvline(x=x_line_annotation, linestyle='dashed', alpha=0.3)\n",
    "ax.text(x=dt.datetime(2020,3,14),y = 1000,s=' Last guidelines - total lockdown')\n",
    "\n",
    "\n",
    "plt.show()"
   ]
  },
  {
   "cell_type": "markdown",
   "metadata": {},
   "source": [
    "### New people with covid-19\n",
    "Are the measures effective to reduce number of people infected ?"
   ]
  },
  {
   "cell_type": "code",
   "execution_count": null,
   "metadata": {},
   "outputs": [],
   "source": [
    "italy_tot.head(5)"
   ]
  },
  {
   "cell_type": "code",
   "execution_count": null,
   "metadata": {},
   "outputs": [],
   "source": [
    "italy_tot = df.groupby(by='data').agg('sum').reset_index()\n",
    "nuovi_tamponi = [b - a for a,b in zip(italy_tot.tamponi,italy_tot.tamponi[1:])]\n",
    "nuovi_tamponi.insert(0,np.nan)\n",
    "italy_tot['nuovi_tamponi'] = nuovi_tamponi\n",
    "\n",
    "fig = plt.figure(figsize=(10,10))\n",
    "\n",
    "ax = sns.lineplot(x='data',y='nuovi_attualmente_positivi',data=italy_tot,label='new positive cases',lw=2)#\n",
    "ax = sns.lineplot(x='data',y='nuovi_tamponi',data=italy_tot,label='tested',lw=2)\n",
    "ax.set_title('ITALY : number of new tests  / daily positive to covid'.format(region_name))\n",
    "ax.set_xticks(italy_tot.data.to_list()[::4])\n",
    "ax.set_xlabel('Date')\n",
    "ax.set_ylabel('Number of people')\n",
    "\n",
    "#what's the percentage of ppl resulted positive with the test ? \n",
    "tot_tests = italy_tot[italy_tot.data == italy_tot.data.max()].nuovi_tamponi.iloc[0]\n",
    "tot_covid = italy_tot[italy_tot.data == italy_tot.data.max()].totale_casi.iloc[0]\n",
    "#fig.text(0.9, 0.86,'Last day % of people positive after the test: {} %'.format(round(tot_covid/tot_tests*100)), fontsize=9,horizontalalignment='right',verticalalignment='top',)\n",
    "\n",
    "\n",
    "#annotate on government policies\n",
    "x_line_annotation = dt.datetime(2020,3,11)\n",
    "ax.axvline(x=x_line_annotation, linestyle='dashed', alpha=0.3)\n",
    "ax.text(x=x_line_annotation,y = tot_tests-10,s=' Initial Lockdown')\n",
    "\n",
    "x_line_annotation = dt.datetime(2020,3,13)\n",
    "ax.axvline(x=x_line_annotation, linestyle='dashed', alpha=0.3)\n",
    "ax.text(x=x_line_annotation,y = tot_tests-0.1*tot_tests,s=' Only few activities open')\n",
    "\n",
    "\n",
    "x_line_annotation = dt.datetime(2020,3,21)\n",
    "ax.axvline(x=x_line_annotation, linestyle='dashed', alpha=0.3)\n",
    "ax.text(x=dt.datetime(2020,3,14),y = 1000,s=' Last guidelines - total lockdown')\n",
    "\n",
    "\n",
    "plt.show()"
   ]
  },
  {
   "cell_type": "markdown",
   "metadata": {},
   "source": [
    "### Total cases per region from the first infected patient registered"
   ]
  },
  {
   "cell_type": "code",
   "execution_count": null,
   "metadata": {},
   "outputs": [],
   "source": [
    "tot_diff = (df.data.max() - df.data.min()).days\n",
    "\n",
    "tot_cases, tot_deaths, tot_hospitalized, tot_icu = {},{},{},{}\n",
    "\n",
    "for region in df.groupby(by=['denominazione_regione']):\n",
    "    tot_cases[region[0]] = region[1].totale_casi.to_list()\n",
    "    tot_deaths[region[0]] = region[1].deceduti.to_list()\n",
    "    tot_hospitalized[region[0]] = region[1].totale_ospedalizzati.to_list()\n",
    "    tot_icu[region[0]] = region[1].terapia_intensiva.to_list()\n",
    "    \n",
    "cum_tot_cases = pd.DataFrame(tot_cases)   \n",
    "cum_tot_hospitalized = pd.DataFrame(tot_hospitalized)\n",
    "cum_tot_icu = pd.DataFrame(tot_icu)   \n",
    "cum_tot_deaths = pd.DataFrame(tot_deaths)"
   ]
  },
  {
   "cell_type": "code",
   "execution_count": null,
   "metadata": {},
   "outputs": [],
   "source": [
    "fig, axes = plt.subplots(6,4,figsize=(20,15),constrained_layout=True)\n",
    "\n",
    "regions = cum_tot_cases.columns.to_list()\n",
    "k=0\n",
    "for i in range(6):\n",
    "    for j in range(4):\n",
    "        sns.lineplot(y=regions[k],x= cum_tot_deaths.index.to_list(), data=cum_tot_deaths, ax=axes[i,j],color='r',label='tot_deaths')\n",
    "        sns.lineplot(y=regions[k],x= cum_tot_hospitalized.index.to_list(),data = cum_tot_hospitalized,ax=axes[i,j],color='b',label='tot_hospitalized')\n",
    "        sns.lineplot(y=regions[k],x= cum_tot_icu.index.to_list(),data = cum_tot_icu,ax=axes[i,j],color='g',label='tot_intensive_cure')\n",
    "        \n",
    "        sns.lineplot(y=regions[k],x= cum_tot_cases.index.to_list(),data = cum_tot_cases,ax=axes[i,j],color='k',label='tot_cases',alpha=.4)\n",
    "        k=k+1\n",
    "        if k == 21: break\n",
    "fig.suptitle('How is the situation going in different regions?')\n",
    "plt.show()\n"
   ]
  },
  {
   "cell_type": "markdown",
   "metadata": {},
   "source": [
    "#### How 's the situation in the south  ? \n",
    "The goal is not to stress the healthcare system. There are a fixed number of intensive-cure units (ICU) in the hospitals. Overall, the healthcare in the south of Italy is worse compared to other regions in the north. Hence, keeping the number of people in ICU is essential to avoid unpleasent consequences\n"
   ]
  },
  {
   "cell_type": "code",
   "execution_count": null,
   "metadata": {},
   "outputs": [],
   "source": [
    "ax = cum_tot_icu.plot(y=['Sicilia','Campania','Puglia','Calabria','Sicilia','Basilicata'],figsize=(10,10),kind='line')\n",
    "ax.set(title='Intensive-cure in the South of Italy',xlabel='days after first case',ylabel='people in intensive-care unit')\n",
    "plt.show()\n"
   ]
  },
  {
   "cell_type": "markdown",
   "metadata": {},
   "source": [
    "df_cum"
   ]
  }
 ],
 "metadata": {
  "kernelspec": {
   "display_name": "Python 3",
   "language": "python",
   "name": "python3"
  },
  "language_info": {
   "codemirror_mode": {
    "name": "ipython",
    "version": 3
   },
   "file_extension": ".py",
   "mimetype": "text/x-python",
   "name": "python",
   "nbconvert_exporter": "python",
   "pygments_lexer": "ipython3",
   "version": "3.7.4"
  }
 },
 "nbformat": 4,
 "nbformat_minor": 4
}
